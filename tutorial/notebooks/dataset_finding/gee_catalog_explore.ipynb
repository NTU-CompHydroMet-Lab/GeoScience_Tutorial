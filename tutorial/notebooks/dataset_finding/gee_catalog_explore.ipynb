{
 "cells": [
  {
   "cell_type": "code",
   "execution_count": 1,
   "metadata": {},
   "outputs": [],
   "source": [
    "import ee"
   ]
  },
  {
   "cell_type": "code",
   "execution_count": 1,
   "metadata": {},
   "outputs": [
    {
     "ename": "IcechunkError",
     "evalue": "  x the repository doesn't exist\n  | \n  | context:\n  |    0: icechunk::repository::open\n  |              at icechunk/src/repository.rs:212\n  | \n  `-> the repository doesn't exist\n",
     "output_type": "error",
     "traceback": [
      "\u001b[0;31m---------------------------------------------------------------------------\u001b[0m",
      "\u001b[0;31mIcechunkError\u001b[0m                             Traceback (most recent call last)",
      "\u001b[1;32m/home/NAS/homes/sungche-10024/geoscience/dataset/gee_catalog_explore.ipynb Cell 2\u001b[0m line \u001b[0;36m1\n\u001b[1;32m      <a href='vscode-notebook-cell://ssh-remote%2B4090/home/NAS/homes/sungche-10024/geoscience/dataset/gee_catalog_explore.ipynb#W1sdnNjb2RlLXJlbW90ZQ%3D%3D?line=2'>3</a>\u001b[0m storage \u001b[39m=\u001b[39m ic\u001b[39m.\u001b[39ms3_storage(\n\u001b[1;32m      <a href='vscode-notebook-cell://ssh-remote%2B4090/home/NAS/homes/sungche-10024/geoscience/dataset/gee_catalog_explore.ipynb#W1sdnNjb2RlLXJlbW90ZQ%3D%3D?line=3'>4</a>\u001b[0m     bucket\u001b[39m=\u001b[39m\u001b[39m'\u001b[39m\u001b[39mearthmover-sample-data\u001b[39m\u001b[39m'\u001b[39m,\n\u001b[1;32m      <a href='vscode-notebook-cell://ssh-remote%2B4090/home/NAS/homes/sungche-10024/geoscience/dataset/gee_catalog_explore.ipynb#W1sdnNjb2RlLXJlbW90ZQ%3D%3D?line=4'>5</a>\u001b[0m     prefix\u001b[39m=\u001b[39m\u001b[39m'\u001b[39m\u001b[39micechunk/oisst.2020-2024/\u001b[39m\u001b[39m'\u001b[39m,\n\u001b[1;32m      <a href='vscode-notebook-cell://ssh-remote%2B4090/home/NAS/homes/sungche-10024/geoscience/dataset/gee_catalog_explore.ipynb#W1sdnNjb2RlLXJlbW90ZQ%3D%3D?line=5'>6</a>\u001b[0m     region\u001b[39m=\u001b[39m\u001b[39m'\u001b[39m\u001b[39mus-east-1\u001b[39m\u001b[39m'\u001b[39m,\n\u001b[1;32m      <a href='vscode-notebook-cell://ssh-remote%2B4090/home/NAS/homes/sungche-10024/geoscience/dataset/gee_catalog_explore.ipynb#W1sdnNjb2RlLXJlbW90ZQ%3D%3D?line=6'>7</a>\u001b[0m     anonymous\u001b[39m=\u001b[39m\u001b[39mTrue\u001b[39;00m,\n\u001b[1;32m      <a href='vscode-notebook-cell://ssh-remote%2B4090/home/NAS/homes/sungche-10024/geoscience/dataset/gee_catalog_explore.ipynb#W1sdnNjb2RlLXJlbW90ZQ%3D%3D?line=7'>8</a>\u001b[0m )\n\u001b[1;32m     <a href='vscode-notebook-cell://ssh-remote%2B4090/home/NAS/homes/sungche-10024/geoscience/dataset/gee_catalog_explore.ipynb#W1sdnNjb2RlLXJlbW90ZQ%3D%3D?line=9'>10</a>\u001b[0m virtual_credentials \u001b[39m=\u001b[39m ic\u001b[39m.\u001b[39mcontainers_credentials({\u001b[39m\"\u001b[39m\u001b[39ms3\u001b[39m\u001b[39m\"\u001b[39m: ic\u001b[39m.\u001b[39ms3_credentials(anonymous\u001b[39m=\u001b[39m\u001b[39mTrue\u001b[39;00m)})\n\u001b[0;32m---> <a href='vscode-notebook-cell://ssh-remote%2B4090/home/NAS/homes/sungche-10024/geoscience/dataset/gee_catalog_explore.ipynb#W1sdnNjb2RlLXJlbW90ZQ%3D%3D?line=11'>12</a>\u001b[0m repo \u001b[39m=\u001b[39m ic\u001b[39m.\u001b[39;49mRepository\u001b[39m.\u001b[39;49mopen(\n\u001b[1;32m     <a href='vscode-notebook-cell://ssh-remote%2B4090/home/NAS/homes/sungche-10024/geoscience/dataset/gee_catalog_explore.ipynb#W1sdnNjb2RlLXJlbW90ZQ%3D%3D?line=12'>13</a>\u001b[0m         storage\u001b[39m=\u001b[39;49mstorage,\n\u001b[1;32m     <a href='vscode-notebook-cell://ssh-remote%2B4090/home/NAS/homes/sungche-10024/geoscience/dataset/gee_catalog_explore.ipynb#W1sdnNjb2RlLXJlbW90ZQ%3D%3D?line=13'>14</a>\u001b[0m         virtual_chunk_credentials\u001b[39m=\u001b[39;49mvirtual_credentials)\n",
      "File \u001b[0;32m~/.conda/envs/satellite/lib/python3.11/site-packages/icechunk/repository.py:86\u001b[0m, in \u001b[0;36mRepository.open\u001b[0;34m(cls, storage, config, virtual_chunk_credentials)\u001b[0m\n\u001b[1;32m     58\u001b[0m \u001b[39m@classmethod\u001b[39m\n\u001b[1;32m     59\u001b[0m \u001b[39mdef\u001b[39;00m \u001b[39mopen\u001b[39m(\n\u001b[1;32m     60\u001b[0m     \u001b[39mcls\u001b[39m,\n\u001b[0;32m   (...)\u001b[0m\n\u001b[1;32m     63\u001b[0m     virtual_chunk_credentials: \u001b[39mdict\u001b[39m[\u001b[39mstr\u001b[39m, AnyCredential] \u001b[39m|\u001b[39m \u001b[39mNone\u001b[39;00m \u001b[39m=\u001b[39m \u001b[39mNone\u001b[39;00m,\n\u001b[1;32m     64\u001b[0m ) \u001b[39m-\u001b[39m\u001b[39m>\u001b[39m Self:\n\u001b[1;32m     65\u001b[0m \u001b[39m    \u001b[39m\u001b[39m\"\"\"\u001b[39;00m\n\u001b[1;32m     66\u001b[0m \u001b[39m    Open an existing Icechunk repository.\u001b[39;00m\n\u001b[1;32m     67\u001b[0m \n\u001b[0;32m   (...)\u001b[0m\n\u001b[1;32m     83\u001b[0m \u001b[39m        An instance of the Repository class.\u001b[39;00m\n\u001b[1;32m     84\u001b[0m \u001b[39m    \"\"\"\u001b[39;00m\n\u001b[1;32m     85\u001b[0m     \u001b[39mreturn\u001b[39;00m \u001b[39mcls\u001b[39m(\n\u001b[0;32m---> 86\u001b[0m         PyRepository\u001b[39m.\u001b[39;49mopen(\n\u001b[1;32m     87\u001b[0m             storage,\n\u001b[1;32m     88\u001b[0m             config\u001b[39m=\u001b[39;49mconfig,\n\u001b[1;32m     89\u001b[0m             virtual_chunk_credentials\u001b[39m=\u001b[39;49mvirtual_chunk_credentials,\n\u001b[1;32m     90\u001b[0m         )\n\u001b[1;32m     91\u001b[0m     )\n",
      "\u001b[0;31mIcechunkError\u001b[0m:   x the repository doesn't exist\n  | \n  | context:\n  |    0: icechunk::repository::open\n  |              at icechunk/src/repository.rs:212\n  | \n  `-> the repository doesn't exist\n"
     ]
    }
   ],
   "source": [
    "import icechunk as ic\n",
    "\n",
    "storage = ic.s3_storage(\n",
    "    bucket='earthmover-sample-data',\n",
    "    prefix='icechunk/oisst.2020-2024/',\n",
    "    region='us-east-1',\n",
    "    anonymous=True,\n",
    ")\n",
    "\n",
    "virtual_credentials = ic.containers_credentials({\"s3\": ic.s3_credentials(anonymous=True)})\n",
    "\n",
    "repo = ic.Repository.open(\n",
    "        storage=storage,\n",
    "        virtual_chunk_credentials=virtual_credentials)"
   ]
  },
  {
   "cell_type": "code",
   "execution_count": null,
   "metadata": {},
   "outputs": [],
   "source": []
  }
 ],
 "metadata": {
  "language_info": {
   "name": "python"
  }
 },
 "nbformat": 4,
 "nbformat_minor": 2
}
