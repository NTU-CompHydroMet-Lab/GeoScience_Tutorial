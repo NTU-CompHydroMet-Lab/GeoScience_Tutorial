{
 "cells": [
  {
   "cell_type": "code",
   "execution_count": 1,
   "metadata": {},
   "outputs": [],
   "source": [
    "import icechunk\n",
    "import xarray as xr\n",
    "import fsspec\n"
   ]
  },
  {
   "cell_type": "code",
   "execution_count": null,
   "metadata": {},
   "outputs": [],
   "source": [
    "# ERA5 weatherbench2 zarr data\n",
    "url = "
   ]
  },
  {
   "cell_type": "code",
   "execution_count": null,
   "metadata": {},
   "outputs": [],
   "source": [
    "# 方法1：使用 fsspec 直接訪問\n",
    "store = fsspec.get_mapper('https://your-data-url.zarr')\n",
    "ds = xr.open_zarr(store, engine='icechunk')\n",
    "\n",
    "# 方法2：使用 icechunk 的特殊語法\n",
    "ds = xr.open_dataset(\n",
    "    'icechunk::https://your-data-url.zarr',\n",
    "    engine='icechunk'\n",
    ") [[1]](#__1)\n"
   ]
  }
 ],
 "metadata": {
  "language_info": {
   "name": "python"
  }
 },
 "nbformat": 4,
 "nbformat_minor": 2
}
